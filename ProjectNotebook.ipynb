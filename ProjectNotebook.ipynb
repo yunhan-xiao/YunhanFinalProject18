{
 "cells": [
  {
   "cell_type": "markdown",
   "metadata": {},
   "source": [
    "# Project Description"
   ]
  },
  {
   "cell_type": "markdown",
   "metadata": {},
   "source": [
    "In this project, I had created a chatbot that can help users choose the right company for them.\n",
    "To do that, I created a class called choose_company, which takes in various instances attributes.\n",
    "By answering those questions, my chatbot can give users some creer advices."
   ]
  },
  {
   "cell_type": "markdown",
   "metadata": {},
   "source": [
    "## Project Code\n",
    "\n",
    "If it makes sense for your project, you can have code and outputs here in the notebook as well."
   ]
  },
  {
   "cell_type": "code",
   "execution_count": 13,
   "metadata": {},
   "outputs": [],
   "source": [
    "from my_module import functions as pf\n",
    "from my_module import test_functions as tf"
   ]
  },
  {
   "cell_type": "code",
   "execution_count": 14,
   "metadata": {},
   "outputs": [],
   "source": [
    "Shawn = pf.choose_company(Name = \"Shawn\", \n",
    "                       Contacts = \"4373\", \n",
    "                       Education = 4.0, \n",
    "                       Work_Experience = \"Programming\", \n",
    "                       Key_Skills = \"Coding\" )"
   ]
  },
  {
   "cell_type": "code",
   "execution_count": 15,
   "metadata": {},
   "outputs": [
    {
     "name": "stdout",
     "output_type": "stream",
     "text": [
      "Hello, Welcome to the interview, what is your name?\n",
      "Shawn\n"
     ]
    },
    {
     "data": {
      "text/plain": [
       "'Hi Shawn Please answering the following questions!\\n'"
      ]
     },
     "execution_count": 15,
     "metadata": {},
     "output_type": "execute_result"
    }
   ],
   "source": [
    "Shawn.interview_begin()"
   ]
  },
  {
   "cell_type": "code",
   "execution_count": 16,
   "metadata": {},
   "outputs": [
    {
     "name": "stdout",
     "output_type": "stream",
     "text": [
      "Would you please give me your contacts? (Please repsonds with a str!)\n",
      "4373\n"
     ]
    },
    {
     "data": {
      "text/plain": [
       "'My contact is 4373.'"
      ]
     },
     "execution_count": 16,
     "metadata": {},
     "output_type": "execute_result"
    }
   ],
   "source": [
    "Shawn.ask_contacts()"
   ]
  },
  {
   "cell_type": "code",
   "execution_count": 17,
   "metadata": {},
   "outputs": [
    {
     "name": "stdout",
     "output_type": "stream",
     "text": [
      "Would you please tell me your gpa at school? (Please repsonds with a decimal between 0.0-4.0.)\n",
      "1.3\n",
      "Most companies need a higher GPA, but I will still try to match you with the right company.\n",
      "\n"
     ]
    }
   ],
   "source": [
    "Shawn.ask_education()"
   ]
  },
  {
   "cell_type": "code",
   "execution_count": 18,
   "metadata": {},
   "outputs": [
    {
     "name": "stdout",
     "output_type": "stream",
     "text": [
      "What kind of work experience do you have? (Please repsonds with following words: Programming, Sales, Engineering)\n",
      "Sales\n",
      "Nice, I think you are are better suited to work in a large market.\n",
      "ok\n"
     ]
    }
   ],
   "source": [
    "Shawn.ask_Work_Experience()"
   ]
  },
  {
   "cell_type": "code",
   "execution_count": 19,
   "metadata": {},
   "outputs": [
    {
     "name": "stdout",
     "output_type": "stream",
     "text": [
      "Do you have any special skills? (Please repsonds with following words: Coding, Management, service oriented)\n",
      "service oriented\n",
      "Your repsonse has been recorded.\n",
      "ok\n"
     ]
    }
   ],
   "source": [
    "Shawn.ask_Key_Skills()"
   ]
  },
  {
   "cell_type": "code",
   "execution_count": 20,
   "metadata": {},
   "outputs": [
    {
     "name": "stdout",
     "output_type": "stream",
     "text": [
      "Please tell me again about your work experience and key skills.\n",
      "Sales and service oriented\n",
      "Sorry, our system cannot help you. Have a good day!\n",
      "\n"
     ]
    }
   ],
   "source": [
    "Shawn.match_company()"
   ]
  },
  {
   "cell_type": "markdown",
   "metadata": {},
   "source": [
    "Here are some examples of my test functions."
   ]
  },
  {
   "cell_type": "code",
   "execution_count": 9,
   "metadata": {},
   "outputs": [],
   "source": [
    "Shawn = pf.choose_company(Name = \"Shawn\", \n",
    "                       Contacts = \"4373\", \n",
    "                       Education = 4.0, \n",
    "                       Work_Experience = \"Programming\", \n",
    "                       Key_Skills = \"Coding\" )"
   ]
  },
  {
   "cell_type": "code",
   "execution_count": 10,
   "metadata": {},
   "outputs": [],
   "source": [
    "tf.test_choose_company(Shawn)"
   ]
  },
  {
   "cell_type": "code",
   "execution_count": 11,
   "metadata": {},
   "outputs": [],
   "source": [
    "tf.test_ask_education()"
   ]
  },
  {
   "cell_type": "code",
   "execution_count": 12,
   "metadata": {},
   "outputs": [],
   "source": [
    "tf.test_ask_Key_Skills()"
   ]
  },
  {
   "cell_type": "markdown",
   "metadata": {},
   "source": [
    "#### Extra Credit (*optional*)\n",
    "\n",
    "1. This is my first python class. I had never learned python or any other computer languages before.\n",
    "2. By asking questions on stackoverflow, I had learned how to create a chatbot that can actually be used."
   ]
  }
 ],
 "metadata": {
  "kernelspec": {
   "display_name": "Python 3",
   "language": "python",
   "name": "python3"
  },
  "language_info": {
   "codemirror_mode": {
    "name": "ipython",
    "version": 3
   },
   "file_extension": ".py",
   "mimetype": "text/x-python",
   "name": "python",
   "nbconvert_exporter": "python",
   "pygments_lexer": "ipython3",
   "version": "3.7.6"
  }
 },
 "nbformat": 4,
 "nbformat_minor": 2
}
